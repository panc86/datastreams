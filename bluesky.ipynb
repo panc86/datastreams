{
 "cells": [
  {
   "cell_type": "code",
   "execution_count": 1,
   "id": "a9e52365-1e71-44cd-be7d-4e1155080ed7",
   "metadata": {
    "scrolled": true
   },
   "outputs": [
    {
     "name": "stdout",
     "output_type": "stream",
     "text": [
      "Requirement already satisfied: atproto in ./.venv/lib/python3.10/site-packages (0.0.46)\n",
      "Requirement already satisfied: click<9,>=8.1.3 in ./.venv/lib/python3.10/site-packages (from atproto) (8.1.7)\n",
      "Requirement already satisfied: cryptography<43,>=41.0.7 in ./.venv/lib/python3.10/site-packages (from atproto) (42.0.7)\n",
      "Requirement already satisfied: dnspython<3,>=2.3.0 in ./.venv/lib/python3.10/site-packages (from atproto) (2.6.1)\n",
      "Requirement already satisfied: httpx<0.26.0,>=0.24.0 in ./.venv/lib/python3.10/site-packages (from atproto) (0.25.2)\n",
      "Requirement already satisfied: libipld<2.0.0,>=1.1.0 in ./.venv/lib/python3.10/site-packages (from atproto) (1.2.3)\n",
      "Requirement already satisfied: pydantic<3.0,>=2.0 in ./.venv/lib/python3.10/site-packages (from atproto) (2.7.1)\n",
      "Requirement already satisfied: typing-extensions<5,>=4.6.1 in ./.venv/lib/python3.10/site-packages (from atproto) (4.11.0)\n",
      "Requirement already satisfied: websockets<13,>=11.0.3 in ./.venv/lib/python3.10/site-packages (from atproto) (12.0)\n",
      "Requirement already satisfied: cffi>=1.12 in ./.venv/lib/python3.10/site-packages (from cryptography<43,>=41.0.7->atproto) (1.16.0)\n",
      "Requirement already satisfied: anyio in ./.venv/lib/python3.10/site-packages (from httpx<0.26.0,>=0.24.0->atproto) (4.3.0)\n",
      "Requirement already satisfied: certifi in ./.venv/lib/python3.10/site-packages (from httpx<0.26.0,>=0.24.0->atproto) (2024.2.2)\n",
      "Requirement already satisfied: httpcore==1.* in ./.venv/lib/python3.10/site-packages (from httpx<0.26.0,>=0.24.0->atproto) (1.0.5)\n",
      "Requirement already satisfied: idna in ./.venv/lib/python3.10/site-packages (from httpx<0.26.0,>=0.24.0->atproto) (3.7)\n",
      "Requirement already satisfied: sniffio in ./.venv/lib/python3.10/site-packages (from httpx<0.26.0,>=0.24.0->atproto) (1.3.1)\n",
      "Requirement already satisfied: h11<0.15,>=0.13 in ./.venv/lib/python3.10/site-packages (from httpcore==1.*->httpx<0.26.0,>=0.24.0->atproto) (0.14.0)\n",
      "Requirement already satisfied: annotated-types>=0.4.0 in ./.venv/lib/python3.10/site-packages (from pydantic<3.0,>=2.0->atproto) (0.6.0)\n",
      "Requirement already satisfied: pydantic-core==2.18.2 in ./.venv/lib/python3.10/site-packages (from pydantic<3.0,>=2.0->atproto) (2.18.2)\n",
      "Requirement already satisfied: pycparser in ./.venv/lib/python3.10/site-packages (from cffi>=1.12->cryptography<43,>=41.0.7->atproto) (2.22)\n",
      "Requirement already satisfied: exceptiongroup>=1.0.2 in ./.venv/lib/python3.10/site-packages (from anyio->httpx<0.26.0,>=0.24.0->atproto) (1.2.1)\n"
     ]
    }
   ],
   "source": [
    "!pip install -U atproto"
   ]
  },
  {
   "cell_type": "code",
   "execution_count": 7,
   "id": "b21b6974-1882-45ca-a82c-c46a305c95fd",
   "metadata": {},
   "outputs": [],
   "source": [
    "from atproto import FirehoseSubscribeReposClient, parse_subscribe_repos_message, CAR, models"
   ]
  },
  {
   "cell_type": "code",
   "execution_count": 9,
   "id": "2cdefc4a-4c8d-49d6-961a-c9a389d7a04f",
   "metadata": {},
   "outputs": [],
   "source": [
    "client = FirehoseSubscribeReposClient()"
   ]
  },
  {
   "cell_type": "code",
   "execution_count": 14,
   "id": "b63b7949-5886-478f-9544-2bf75fc49b63",
   "metadata": {},
   "outputs": [],
   "source": [
    "def get_posts(commit):\n",
    "    car = CAR.from_bytes(commit.blocks)\n",
    "    for op in commit.ops:\n",
    "        raw = car.blocks.get(op.cid)\n",
    "        if raw[\"$type\"] != 'app.bsky.feed.post':\n",
    "            continue\n",
    "        yield raw"
   ]
  },
  {
   "cell_type": "code",
   "execution_count": 15,
   "id": "23c06725-aa42-4f33-8d7f-5946e7cf97d7",
   "metadata": {},
   "outputs": [],
   "source": [
    "def on_message_handler(message):\n",
    "    commit = parse_subscribe_repos_message(message)\n",
    "    # we need to be sure that it's commit message with .blocks inside\n",
    "    if not isinstance(commit, models.ComAtprotoSyncSubscribeRepos.Commit):\n",
    "        return\n",
    "\n",
    "    for post in get_posts(commit):\n",
    "        print(post)"
   ]
  },
  {
   "cell_type": "code",
   "execution_count": 16,
   "id": "b1db3bdf-633b-494b-8197-72b4c352a0b1",
   "metadata": {},
   "outputs": [
    {
     "name": "stdout",
     "output_type": "stream",
     "text": [
      "{'text': 'フィナーレ舞台挨拶のライビュチケ取ったど', '$type': 'app.bsky.feed.post', 'langs': ['ja'], 'createdAt': '2024-05-13T15:34:54.197Z'}\n",
      "{'text': 'Braucht er nicht.Ist kein General.Über solche Entscheidungen l-a-b-e-r-t man nicht auf Social Media.\\nAls ehem.Kriegsbeteiligte bitte ich alle in DE,endlich nicht alles zu zerreden, Sicherheitsbewusstsein zu entwickeln u an sich zu halten wenn man Nichts fachliches beizutragen hat\\nEs kostet zu viel🕯️💔', '$type': 'app.bsky.feed.post', 'embed': {'$type': 'app.bsky.embed.images', 'images': [{'alt': '', 'image': {'ref': 'bafkreif3x425kit3k3bloiptbfv7tnz3tbzez5ti7nnwtsk3hxq5awuzoa', 'size': 466509, '$type': 'blob', 'mimeType': 'image/jpeg'}, 'aspectRatio': {'width': 1600, 'height': 2000}}, {'alt': '', 'image': {'ref': 'bafkreicecjtbl5tz2ym25fz2jbf5jk76eq5euk6ra3dfjd5ucjei5yj6ha', 'size': 896137, '$type': 'blob', 'mimeType': 'image/jpeg'}, 'aspectRatio': {'width': 1861, 'height': 2000}}]}, 'langs': ['en'], 'reply': {'root': {'cid': 'bafyreicjbo3vcxvfbh6geumbbxchzs6ggznofv3tfypt2mlllm5qykcj7u', 'uri': 'at://did:plc:eronyhtcn3eycaxa4k2i4xtf/app.bsky.feed.post/3ksdwxvug2p2z'}, 'parent': {'cid': 'bafyreib76w3k4jpjocfyvo4ubvgbnx4laigisrdeenkxoq23sup5ildlke', 'uri': 'at://did:plc:nfn2j4dqevj6zyljx6opjelb/app.bsky.feed.post/3ksexd4cbk22z'}}, 'createdAt': '2024-05-13T15:34:53.545Z'}\n",
      "{'text': 'Daumen und Pfoten sind gedrückt.\\nAlles Liebe und Gute für dich.\\n💜🍀', '$type': 'app.bsky.feed.post', 'langs': ['de'], 'reply': {'root': {'cid': 'bafyreid2twxla5p4omlzexon4hmbdrz7ifowfw62lqmcz5t6kph3xv77ty', 'uri': 'at://did:plc:e6h6dmh2bw776zelqqg6tmu5/app.bsky.feed.post/3ksexrkasbh2z'}, 'parent': {'cid': 'bafyreicfy47dgy7zb4vosnlztrbspziapl5x3ivvqrs6ujrqaousrinqba', 'uri': 'at://did:plc:e6h6dmh2bw776zelqqg6tmu5/app.bsky.feed.post/3ksey72o2yc2s'}}, 'createdAt': '2024-05-13T15:34:53.572Z'}\n",
      "{'text': '\"Defeating Russia’s Kharkiv Operation Requires Eliminating Russia’s Sanctuary – Putin’s Safe Space\"\\nwww.understandingwar.org/backgrounder...', '$type': 'app.bsky.feed.post', 'embed': {'$type': 'app.bsky.embed.external', 'external': {'uri': 'https://www.understandingwar.org/backgrounder/defeating-russia%E2%80%99s-kharkiv-operation-requires-eliminating-russia%E2%80%99s-sanctuary-%E2%80%93-putin%E2%80%99s', 'title': 'Institute for the Study of War', 'description': \"Current US policy prohibiting Ukraine from using US-provided weapons in the territory of the Russian Federation is severely compromising Ukraine's ability to defend itself against the renewed cross-bo...\"}}, 'langs': ['en'], 'facets': [{'index': {'byteEnd': 148, 'byteStart': 108}, 'features': [{'uri': 'https://www.understandingwar.org/backgrounder/defeating-russia%E2%80%99s-kharkiv-operation-requires-eliminating-russia%E2%80%99s-sanctuary-%E2%80%93-putin%E2%80%99s', '$type': 'app.bsky.richtext.facet#link'}]}], 'createdAt': '2024-05-13T15:34:54.833Z'}\n",
      "{'text': 'Dream theatre djdmdmd', '$type': 'app.bsky.feed.post', 'langs': ['tr'], 'reply': {'root': {'cid': 'bafyreidz5z3fzoeq57nfvfekrto3crprhx3esx4t5vyge24qmvjplgh7um', 'uri': 'at://did:plc:5rz3ft33jq7tnkxeqvyv5cmd/app.bsky.feed.post/3kseyiymybs2q'}, 'parent': {'cid': 'bafyreiao2u3umwvvhhsp45vyora4qjhzhyeacgeczlmazngpizmhqjx3sa', 'uri': 'at://did:plc:nqfpup2znwsrz2dyjl7wbsvm/app.bsky.feed.post/3kseyjwptq225'}}, 'createdAt': '2024-05-13T15:34:54.354Z'}\n",
      "{'text': \"REMINDER to please share any political mailers or ads you're getting across Kentucky ahead of the primary, please! Contact info here: www.lpm.org/people/joe-s...\", '$type': 'app.bsky.feed.post', 'langs': ['en'], 'facets': [{'index': {'byteEnd': 161, 'byteStart': 134}, 'features': [{'uri': 'https://www.lpm.org/people/joe-sonka', '$type': 'app.bsky.richtext.facet#link'}]}], 'createdAt': '2024-05-13T15:34:54.717Z'}\n",
      "{'text': '家族が心身ともに健康なのって超幸せなことなんだぞー', '$type': 'app.bsky.feed.post', 'langs': ['ja'], 'createdAt': '2024-05-13T15:34:53.399Z'}\n"
     ]
    },
    {
     "name": "stderr",
     "output_type": "stream",
     "text": [
      "Traceback (most recent call last):\n",
      "  File \"/home/ep/ws/datastreams/.venv/lib/python3.10/site-packages/atproto_firehose/client.py\", line 141, in _process_message_frame\n",
      "    self._on_message_callback(frame)\n",
      "  File \"/tmp/ipykernel_23314/4106197328.py\", line 7, in on_message_handler\n",
      "    for post in get_posts(commit):\n",
      "  File \"/tmp/ipykernel_23314/2762105270.py\", line 5, in get_posts\n",
      "    if raw[\"$type\"] != 'app.bsky.feed.post':\n",
      "TypeError: 'NoneType' object is not subscriptable\n"
     ]
    },
    {
     "name": "stdout",
     "output_type": "stream",
     "text": [
      "{'text': 'いやほんまにwww思考回路似てた😂まああんだけキャラいたら、理想にしたいキャラおるよな…笑笑\\nコンピュータは他のみんなも割と持ってそうやし頼ってこ💪\\nマジで1年楽しかったよ\\U0001f979💕ご飯作ったり片付けしたりするの楽しすぎた笑\\n次の探索もがんばろね…！！とりあえず日程決めなきゃだ笑', '$type': 'app.bsky.feed.post', 'langs': ['ja'], 'reply': {'root': {'cid': 'bafyreihd3mymj4audzndge72ugwnsajaqcnufaxfyzah3h2c7tjwgljebm', 'uri': 'at://did:plc:r23tmi5fq6kjncla3hhwim6t/app.bsky.feed.post/3ksep7d7nvq2d'}, 'parent': {'cid': 'bafyreihrnp54zop6qmomkoxjyzxt3t36jbiuagqrnjztazd4gwchwjvkwq', 'uri': 'at://did:plc:r23tmi5fq6kjncla3hhwim6t/app.bsky.feed.post/3ksevslu6dk2m'}}, 'createdAt': '2024-05-13T15:34:55.621Z'}\n",
      "{'text': 'Nö, sitze noch im Wartezimmer.', '$type': 'app.bsky.feed.post', 'langs': ['de'], 'reply': {'root': {'cid': 'bafyreibesu3jwmbezd6r7jsyvkmovemxwyg5wmhaercpvaiglahumj6baq', 'uri': 'at://did:plc:vakwuroosbkkjdh4vrrqtgdl/app.bsky.feed.post/3kseuldbg762z'}, 'parent': {'cid': 'bafyreia3pzvvfbelp4qelu6gozwi2m27xgp6kmce35bhd6eviw2ufrb7gy', 'uri': 'at://did:plc:eqxmnvlajusm3ujomr2uvurn/app.bsky.feed.post/3kseyigjtm72h'}}, 'createdAt': '2024-05-13T15:34:54.879Z'}\n",
      "{'text': 'ここだけの話\\nニコ動でエドワードヤンのカップルズみれます', '$type': 'app.bsky.feed.post', 'langs': ['ja'], 'createdAt': '2024-05-13T15:34:54.893Z'}\n"
     ]
    },
    {
     "name": "stderr",
     "output_type": "stream",
     "text": [
      "Traceback (most recent call last):\n",
      "  File \"/home/ep/ws/datastreams/.venv/lib/python3.10/site-packages/atproto_firehose/client.py\", line 141, in _process_message_frame\n",
      "    self._on_message_callback(frame)\n",
      "  File \"/tmp/ipykernel_23314/4106197328.py\", line 7, in on_message_handler\n",
      "    for post in get_posts(commit):\n",
      "  File \"/tmp/ipykernel_23314/2762105270.py\", line 5, in get_posts\n",
      "    if raw[\"$type\"] != 'app.bsky.feed.post':\n",
      "TypeError: 'NoneType' object is not subscriptable\n",
      "Traceback (most recent call last):\n",
      "  File \"/home/ep/ws/datastreams/.venv/lib/python3.10/site-packages/atproto_firehose/client.py\", line 141, in _process_message_frame\n",
      "    self._on_message_callback(frame)\n",
      "  File \"/tmp/ipykernel_23314/4106197328.py\", line 7, in on_message_handler\n",
      "    for post in get_posts(commit):\n",
      "  File \"/tmp/ipykernel_23314/2762105270.py\", line 5, in get_posts\n",
      "    if raw[\"$type\"] != 'app.bsky.feed.post':\n",
      "TypeError: 'NoneType' object is not subscriptable\n"
     ]
    },
    {
     "name": "stdout",
     "output_type": "stream",
     "text": [
      "{'text': \"I simply think that a US President with a firm rooting in basic human rights principles would not consider a country that unrepentantly occupies another an ally and a partner, and also at the same time think that anyone who claims you shouldn't vote for him in November is an unmitigated moron. Easy!\", '$type': 'app.bsky.feed.post', 'langs': ['en'], 'reply': {'root': {'cid': 'bafyreifaafrtcav5obhg4r6ybtanoj3xz62ltd4kxf3rxqy46rvbcvd77u', 'uri': 'at://did:plc:gmbqy5pcenb4bduadxtinou7/app.bsky.feed.post/3kseyam7vvx2z'}, 'parent': {'cid': 'bafyreifaafrtcav5obhg4r6ybtanoj3xz62ltd4kxf3rxqy46rvbcvd77u', 'uri': 'at://did:plc:gmbqy5pcenb4bduadxtinou7/app.bsky.feed.post/3kseyam7vvx2z'}}, 'createdAt': '2024-05-13T15:34:53.130Z'}\n",
      "{'text': 'Hab‘s nicht so mit Blasinstrumenten…', '$type': 'app.bsky.feed.post', 'langs': ['de'], 'reply': {'root': {'cid': 'bafyreidymzspsey5spgi2tv33a6yrjyucxbrgijearfchxbjyw3tez3ysm', 'uri': 'at://did:plc:sx3syinadkaou65kitndms3i/app.bsky.feed.post/3kse4hvfj6c2r'}, 'parent': {'cid': 'bafyreievav4hwtx2xt36fitqtcb775lezo47gqbfeeqee3lsuyj6tnznpq', 'uri': 'at://did:plc:ql5jrrb367dzcfabg5b6o2js/app.bsky.feed.post/3ksepcmtbcc2o'}}, 'createdAt': '2024-05-13T15:34:55.946Z'}\n",
      "{'text': \"That bites. I wonder why, as I've never had a problem with any plant respawning fruit after resetting using the cheat. Sorry you're having to deal with that.\", '$type': 'app.bsky.feed.post', 'langs': ['en'], 'reply': {'root': {'cid': 'bafyreifqtjbdmphmbwpgqhvjs7pyrn6caj5p7ihvle5knlchez7fb6wf34', 'uri': 'at://did:plc:tmo6osdf7qtdflicegp24oah/app.bsky.feed.post/3ksbzgp2nmk2y'}, 'parent': {'cid': 'bafyreicv4auk5n3bpnw54pl5flpotzu7v77o3fv3r35gguc4ml6phwj5ji', 'uri': 'at://did:plc:tmo6osdf7qtdflicegp24oah/app.bsky.feed.post/3ksexqz2m5k2v'}}, 'createdAt': '2024-05-13T15:34:55.911Z'}\n",
      "{'text': 'shit', '$type': 'app.bsky.feed.post', 'langs': ['en'], 'reply': {'root': {'cid': 'bafyreiaew6t34hh4zefuct2xfousxiwnyryo6kyw6utfryi5alxbqq363i', 'uri': 'at://did:plc:sqfneztmrppffi4jambf7i56/app.bsky.feed.post/3ksewtphrc22t'}, 'parent': {'cid': 'bafyreiese2jypahpcmvegeaw7q4qcnyhbfyp3ztueymq3kllrixvruegr4', 'uri': 'at://did:plc:xccx7ujmsaolft6ukd2oakkx/app.bsky.feed.post/3ksexctydrl2w'}}, 'createdAt': '2024-05-13T15:34:56.069Z'}\n",
      "{'text': '(um den heißen brei herum könnt ich das als order lesen)', '$type': 'app.bsky.feed.post', 'langs': ['de'], 'reply': {'root': {'cid': 'bafyreifukgp74vuh2rcumhyw555obigfbpfscgikdv46qqpsmaaj4qnfjm', 'uri': 'at://did:plc:rzs5hr7hxp3xkzxug2disyar/app.bsky.feed.post/3kseuzskipr2e'}, 'parent': {'cid': 'bafyreigotspychn64dxn6ohqaswf6tth7uf3juhblzkdt3squibopwwr4q', 'uri': 'at://did:plc:rzs5hr7hxp3xkzxug2disyar/app.bsky.feed.post/3kseygtp3hm2s'}}, 'createdAt': '2024-05-13T15:34:55.876Z'}\n"
     ]
    },
    {
     "name": "stderr",
     "output_type": "stream",
     "text": [
      "Traceback (most recent call last):\n",
      "  File \"/home/ep/ws/datastreams/.venv/lib/python3.10/site-packages/atproto_firehose/client.py\", line 141, in _process_message_frame\n",
      "    self._on_message_callback(frame)\n",
      "  File \"/tmp/ipykernel_23314/4106197328.py\", line 7, in on_message_handler\n",
      "    for post in get_posts(commit):\n",
      "  File \"/tmp/ipykernel_23314/2762105270.py\", line 5, in get_posts\n",
      "    if raw[\"$type\"] != 'app.bsky.feed.post':\n",
      "TypeError: 'NoneType' object is not subscriptable\n"
     ]
    },
    {
     "name": "stdout",
     "output_type": "stream",
     "text": [
      "{'text': 'floor timeliness is next to godliness', '$type': 'app.bsky.feed.post', 'langs': ['en'], 'reply': {'root': {'cid': 'bafyreib2iwucapxgerbq4zufqutxnifmh2kmn5rlg4bf2c3psas22qo2xy', 'uri': 'at://did:plc:p26zuc5evmnxacg7k75xckm5/app.bsky.feed.post/3ksextsu5ac26'}, 'parent': {'cid': 'bafyreiaubpoqpci2pn3uyod7zprcqkedidxyv3pdmeofq755uonc3w4tkm', 'uri': 'at://did:plc:vkekplzptcqivhzk562ye54c/app.bsky.feed.post/3ksey7t2fbt2u'}}, 'createdAt': '2024-05-13T15:35:05.286Z'}\n",
      "{'text': 'Soll mit dieser Frage die These infrage gestellt werden? Viele Unternehmer äußern sich mittlerweile sehr deutlich gegen die AfD.', '$type': 'app.bsky.feed.post', 'langs': [], 'reply': {'root': {'cid': 'bafyreihl5dpflyzyso4j7f6h6dgscit4zoi3jnqjzoj6ayy4joiticdtbq', 'uri': 'at://did:plc:r2c3phv3mvihq4ca7nninhgc/app.bsky.feed.post/3kseommo7ou2g'}, 'parent': {'cid': 'bafyreiasmvv5ecytayvktd6rhgloodz2uvireodo2dyhpa4kq4775ii4nq', 'uri': 'at://did:plc:k22dfem6jq5yuhz6i7456ie7/app.bsky.feed.post/3ksex4je3pl25'}}, 'createdAt': '2024-05-13T15:34:55.885Z'}\n",
      "{'text': '自家焙煎 オリジナルブレンド アマブレ 300g 豆 | 100g×3袋セット(¥1,720)がフリマアプリ ラクマで販売中♪ #rakuma #ラクマ', '$type': 'app.bsky.feed.post', 'langs': ['ja'], 'facets': [{'index': {'byteEnd': 147, 'byteStart': 140}, 'features': [{'tag': 'rakuma', '$type': 'app.bsky.richtext.facet#tag'}]}, {'index': {'byteEnd': 158, 'byteStart': 148}, 'features': [{'tag': 'ラクマ', '$type': 'app.bsky.richtext.facet#tag'}]}], 'createdAt': '2024-05-13T15:34:56.080Z'}\n",
      "{'text': \"Still not here, so heading out. I've wasted most of today hanging around for them.\", '$type': 'app.bsky.feed.post', 'langs': ['en'], 'createdAt': '2024-05-13T15:34:54.734Z'}\n",
      "{'text': 'I would die for this creature', '$type': 'app.bsky.feed.post', 'langs': ['en'], 'reply': {'root': {'cid': 'bafyreielljf6zp2jvqjndmdbvjtdkrwbxrlmnwqednyav4tcgnxws3hsfq', 'uri': 'at://did:plc:dwt2ntmuye3zb3w3ie3b5zgu/app.bsky.feed.post/3ksenfkdhwk2n'}, 'parent': {'cid': 'bafyreids2h4r4nsqkbvbhmk6324pd7mobze7abmg2xain34ux2rj2ms26i', 'uri': 'at://did:plc:urwbiqpcjwskrgmvxjfgddpj/app.bsky.feed.post/3ksexpjdc4s2e'}}, 'createdAt': '2024-05-13T15:34:54.639Z'}\n",
      "{'text': \"100 degrees farenheit is really fucking hot and there's no tree cover. hyperthermia can kill really fast.\", '$type': 'app.bsky.feed.post', 'langs': ['en'], 'reply': {'root': {'cid': 'bafyreids6fhcsxg7rfjxkkw677lbsclx3otd5jmev7ubdue4z3nwthuvgy', 'uri': 'at://did:plc:qiknc4t5rq7yngvz7g4aezq7/app.bsky.feed.post/3ksewl75vk22m'}, 'parent': {'cid': 'bafyreidfc6p4zt6suv6jfu3hlexown4dnbubat3p444wbkonjxi7rhw7ee', 'uri': 'at://did:plc:5vtbg57h576doxp2r7b5tmug/app.bsky.feed.post/3kseyhjtt2b2v'}}, 'createdAt': '2024-05-13T15:34:56.619Z'}\n"
     ]
    },
    {
     "name": "stderr",
     "output_type": "stream",
     "text": [
      "Traceback (most recent call last):\n",
      "  File \"/home/ep/ws/datastreams/.venv/lib/python3.10/site-packages/atproto_firehose/client.py\", line 141, in _process_message_frame\n",
      "    self._on_message_callback(frame)\n",
      "  File \"/tmp/ipykernel_23314/4106197328.py\", line 7, in on_message_handler\n",
      "    for post in get_posts(commit):\n",
      "  File \"/tmp/ipykernel_23314/2762105270.py\", line 5, in get_posts\n",
      "    if raw[\"$type\"] != 'app.bsky.feed.post':\n",
      "TypeError: 'NoneType' object is not subscriptable\n",
      "Traceback (most recent call last):\n",
      "  File \"/home/ep/ws/datastreams/.venv/lib/python3.10/site-packages/atproto_firehose/client.py\", line 141, in _process_message_frame\n",
      "    self._on_message_callback(frame)\n",
      "  File \"/tmp/ipykernel_23314/4106197328.py\", line 7, in on_message_handler\n",
      "    for post in get_posts(commit):\n",
      "  File \"/tmp/ipykernel_23314/2762105270.py\", line 5, in get_posts\n",
      "    if raw[\"$type\"] != 'app.bsky.feed.post':\n",
      "TypeError: 'NoneType' object is not subscriptable\n"
     ]
    },
    {
     "name": "stdout",
     "output_type": "stream",
     "text": [
      "{'text': 'だからと言って、羽飾りを所望された時に、ほらよって出てくるのが一般的なのかは分からないから、その場で当然のように取り出したつるまるさんは、やっぱりつるまるさん…。', '$type': 'app.bsky.feed.post', 'langs': ['ja'], 'createdAt': '2024-05-13T15:34:55.787Z'}\n",
      "{'text': 'Super sized giftie for @masonparker.bsky.social ! I guess something was in that cake after all...', '$type': 'app.bsky.feed.post', 'embed': {'$type': 'app.bsky.embed.images', 'images': [{'alt': '', 'image': {'ref': 'bafkreig3c5n27ag3ohefqvxuxucwxzvnncxs3mz34mibhjtvfglulsipju', 'size': 400154, '$type': 'blob', 'mimeType': 'image/jpeg'}, 'aspectRatio': {'width': 1550, 'height': 1096}}]}, 'langs': ['en'], 'facets': [{'$type': 'app.bsky.richtext.facet', 'index': {'byteEnd': 47, 'byteStart': 23}, 'features': [{'did': 'did:plc:nbnuhaaaboanxa5wwqpcy64d', '$type': 'app.bsky.richtext.facet#mention'}]}], 'createdAt': '2024-05-13T15:34:55.458Z'}\n",
      "{'text': '😆', '$type': 'app.bsky.feed.post', 'langs': ['tr'], 'reply': {'root': {'cid': 'bafyreif2a7c65huzl7cykizuauy2itrw5hxsnuzcetob365coavvqp6y3a', 'uri': 'at://did:plc:4w2prughd33zwctjhksvmem7/app.bsky.feed.post/3kseyfyybti26'}, 'parent': {'cid': 'bafyreif2a7c65huzl7cykizuauy2itrw5hxsnuzcetob365coavvqp6y3a', 'uri': 'at://did:plc:4w2prughd33zwctjhksvmem7/app.bsky.feed.post/3kseyfyybti26'}}, 'createdAt': '2024-05-13T15:34:59.695Z'}\n",
      "{'text': 'あらゆる好きなジャンル、今月やたらグッズ出してきて震える\\U0001fae8新しい人形もお迎えしたばかりだよ（）', '$type': 'app.bsky.feed.post', 'langs': ['ja'], 'createdAt': '2024-05-13T15:34:56.156Z'}\n",
      "{'text': \"Awwoooo! Happy Monday, pups! It's gonna be a great week!!\", '$type': 'app.bsky.feed.post', 'langs': ['en'], 'createdAt': '2024-05-13T15:34:56.550Z'}\n"
     ]
    },
    {
     "name": "stderr",
     "output_type": "stream",
     "text": [
      "Traceback (most recent call last):\n",
      "  File \"/home/ep/ws/datastreams/.venv/lib/python3.10/site-packages/atproto_firehose/client.py\", line 141, in _process_message_frame\n",
      "    self._on_message_callback(frame)\n",
      "  File \"/tmp/ipykernel_23314/4106197328.py\", line 7, in on_message_handler\n",
      "    for post in get_posts(commit):\n",
      "  File \"/tmp/ipykernel_23314/2762105270.py\", line 5, in get_posts\n",
      "    if raw[\"$type\"] != 'app.bsky.feed.post':\n",
      "TypeError: 'NoneType' object is not subscriptable\n",
      "Traceback (most recent call last):\n",
      "  File \"/home/ep/ws/datastreams/.venv/lib/python3.10/site-packages/atproto_firehose/client.py\", line 141, in _process_message_frame\n",
      "    self._on_message_callback(frame)\n",
      "  File \"/tmp/ipykernel_23314/4106197328.py\", line 7, in on_message_handler\n",
      "    for post in get_posts(commit):\n",
      "  File \"/tmp/ipykernel_23314/2762105270.py\", line 5, in get_posts\n",
      "    if raw[\"$type\"] != 'app.bsky.feed.post':\n",
      "TypeError: 'NoneType' object is not subscriptable\n"
     ]
    },
    {
     "name": "stdout",
     "output_type": "stream",
     "text": [
      "{'text': 'Pretty neat that we just have to live with wildfire smoke from now on. I feel like I should be given 10 minutes alone with the board of directors at Exxon and a baseball bat as repayment', '$type': 'app.bsky.feed.post', 'langs': ['en'], 'createdAt': '2024-05-13T15:34:56.645Z'}\n",
      "{'text': 'Yes, we are all ok. Thankyouverymuch. 😺', '$type': 'app.bsky.feed.post', 'langs': ['en'], 'reply': {'root': {'cid': 'bafyreifoc6abwmlminbdh4b6oqklqzk2qq5h427mm2iqnlxu3kmfrzqjwi', 'uri': 'at://did:plc:lxxix3mw6uagtrddgdgrdgrs/app.bsky.feed.post/3ksda66am5l2b'}, 'parent': {'cid': 'bafyreifaqc2ywjm6z6x5n4ruu6wdpm45fmyyevba525l5jmpo6qjphoasa', 'uri': 'at://did:plc:qtjp4vju2jdab2tnf4rj6d7c/app.bsky.feed.post/3ksdplufkp52j'}}, 'createdAt': '2024-05-13T15:34:55.970Z'}\n",
      "{'text': 'La qualité video du r10 est pas degueu du tout.\\nRegardez moi me transformer en tik tokeur qui fait que des vidéo de ses chats.', '$type': 'app.bsky.feed.post', 'langs': ['fr'], 'createdAt': '2024-05-13T15:34:57.387Z'}\n",
      "{'text': '東京テディベア、エキスパートはサクッと初見APです。\\n知らない曲だったらこうはいかなかった気はする。\\nリズム感が若干難しいですし。\\nwww.youtube.com/watch?v=uvnu...', '$type': 'app.bsky.feed.post', 'embed': {'$type': 'app.bsky.embed.external', 'external': {'uri': 'https://www.youtube.com/watch?v=uvnuBnQJJUQ', 'thumb': {'ref': 'bafkreibv3f3fnpbju5piv5i4tzxxfz5zehkpguke27asd36hy6pviuaet4', 'size': 643879, '$type': 'blob', 'mimeType': 'image/jpeg'}, 'title': '【プロセカ】東京テディベア（EXPERT）オールパーフェクト', 'description': '「プロジェクトセカイ カラフルステージ！ feat.初音ミク」より、「東京テディベア」です。Project DIVAでもおなじみだった曲なので、エキスパートは28でしたけど初見でAP取れました。というか、MVがめっちゃかっこいい！○プレイ曲：『東京テディベア』\\u3000→素敵な本家様：https://www.youtub...'}}, 'langs': ['ja'], 'facets': [{'index': {'byteEnd': 219, 'byteStart': 188}, 'features': [{'uri': 'https://www.youtube.com/watch?v=uvnuBnQJJUQ', '$type': 'app.bsky.richtext.facet#link'}]}], 'createdAt': '2024-05-13T15:34:56.165Z'}\n"
     ]
    },
    {
     "name": "stderr",
     "output_type": "stream",
     "text": [
      "Traceback (most recent call last):\n",
      "  File \"/home/ep/ws/datastreams/.venv/lib/python3.10/site-packages/atproto_firehose/client.py\", line 141, in _process_message_frame\n",
      "    self._on_message_callback(frame)\n",
      "  File \"/tmp/ipykernel_23314/4106197328.py\", line 7, in on_message_handler\n",
      "    for post in get_posts(commit):\n",
      "  File \"/tmp/ipykernel_23314/2762105270.py\", line 5, in get_posts\n",
      "    if raw[\"$type\"] != 'app.bsky.feed.post':\n",
      "TypeError: 'NoneType' object is not subscriptable\n"
     ]
    },
    {
     "name": "stdout",
     "output_type": "stream",
     "text": [
      "{'text': 'Being an old, TIL it means lying www.howtogeek.com/795210/what-...', '$type': 'app.bsky.feed.post', 'embed': {'$type': 'app.bsky.embed.external', 'external': {'uri': 'https://www.howtogeek.com/795210/what-do-cap-and-no-cap-mean/', 'thumb': {'ref': 'bafkreiajd7oqrg37j6wgya7u65cwydlmchzineqjwkmdsi6qqf36saudxu', 'size': 966281, '$type': 'blob', 'mimeType': 'image/jpeg'}, 'title': 'What Do \"Cap\" and \"No Cap\" Mean on the Internet?', 'description': 'Your friend says they finished Elden Ring in three hours. 🧢 or 🚫🧢?'}}, 'langs': ['en'], 'reply': {'root': {'cid': 'bafyreifdnk455m67s36ydek5cb2njuihj5saybbm7vurg4efesq5bbsuvm', 'uri': 'at://did:plc:2cxgdrgtsmrbqnjkwyplmp43/app.bsky.feed.post/3ksetbbrh6y22'}, 'parent': {'cid': 'bafyreic2nqtiyvyduvlobqtitdkm77gawcqbmj2bg2lypnfgg7l4pjkcku', 'uri': 'at://did:plc:oypgij57lv3ytni32p2jqbce/app.bsky.feed.post/3ksexvewza22m'}}, 'facets': [{'index': {'byteEnd': 66, 'byteStart': 33}, 'features': [{'uri': 'https://www.howtogeek.com/795210/what-do-cap-and-no-cap-mean/', '$type': 'app.bsky.richtext.facet#link'}]}], 'createdAt': '2024-05-13T15:34:56.422Z'}\n",
      "{'text': 'Is that a W800?', '$type': 'app.bsky.feed.post', 'langs': ['en'], 'reply': {'root': {'cid': 'bafyreibwgbbcvtqduhebufbi4h365xgdtlnhrpn4sw7owmga3rqhyk7t7a', 'uri': 'at://did:plc:ilsebv2zkbdfkrsbutq6qoql/app.bsky.feed.post/3ksertuu4zs2l'}, 'parent': {'cid': 'bafyreibwgbbcvtqduhebufbi4h365xgdtlnhrpn4sw7owmga3rqhyk7t7a', 'uri': 'at://did:plc:ilsebv2zkbdfkrsbutq6qoql/app.bsky.feed.post/3ksertuu4zs2l'}}, 'createdAt': '2024-05-13T15:34:57.245Z'}\n",
      "{'text': '助成金による補助が終了し、これまでにご寄付いただいた資金をもとに活動を続けています。6月には活動拠点の開設を控えています。ニーズとそれに伴う事業の拡大に伴い、例年以上に活動資金を必要としています。ご無理のない範囲でご支援いただけますと幸いです。\\nwww.wakaneri.org/donation/', '$type': 'app.bsky.feed.post', 'embed': {'$type': 'app.bsky.embed.record', 'record': {'cid': 'bafyreieo7thdfpt53gq6ww4kyvv5fvc3krbtosgmgq7kqdldpoqhyt6jg4', 'uri': 'at://did:plc:hvtiievm7e22rpcbdvpgqku3/app.bsky.feed.post/3kseyjvk5og2y'}}, 'langs': ['ja'], 'facets': [{'index': {'byteEnd': 391, 'byteStart': 365}, 'features': [{'uri': 'https://www.wakaneri.org/donation/', '$type': 'app.bsky.richtext.facet#link'}]}], 'createdAt': '2024-05-13T15:34:59.560Z'}\n"
     ]
    },
    {
     "name": "stderr",
     "output_type": "stream",
     "text": [
      "Traceback (most recent call last):\n",
      "  File \"/home/ep/ws/datastreams/.venv/lib/python3.10/site-packages/atproto_firehose/client.py\", line 141, in _process_message_frame\n",
      "    self._on_message_callback(frame)\n",
      "  File \"/tmp/ipykernel_23314/4106197328.py\", line 7, in on_message_handler\n",
      "    for post in get_posts(commit):\n",
      "  File \"/tmp/ipykernel_23314/2762105270.py\", line 5, in get_posts\n",
      "    if raw[\"$type\"] != 'app.bsky.feed.post':\n",
      "TypeError: 'NoneType' object is not subscriptable\n"
     ]
    },
    {
     "name": "stdout",
     "output_type": "stream",
     "text": [
      "{'text': 'I’m crawling over glass to vote. Joe Biden never needed to worry about the likes of me. But people like me convince regular ass people who don’t know how the EC works to commit time and energy to casting a ballot. And the vibes are rancid!', '$type': 'app.bsky.feed.post', 'langs': ['en'], 'reply': {'root': {'cid': 'bafyreigfdogoaa3syegbnmlwpmsuub5yfak3pun4ah7uaoz775jctihyxe', 'uri': 'at://did:plc:rzkenmeipfagqf2d3sb4mmob/app.bsky.feed.post/3kseyf22psk2b'}, 'parent': {'cid': 'bafyreigfdogoaa3syegbnmlwpmsuub5yfak3pun4ah7uaoz775jctihyxe', 'uri': 'at://did:plc:rzkenmeipfagqf2d3sb4mmob/app.bsky.feed.post/3kseyf22psk2b'}}, 'createdAt': '2024-05-13T15:34:57.622Z'}\n",
      "{'text': 'Zumindest scheinen sich auch andere Leute retrospektiv der naheliegenden Vermutung hinzugeben, dass der Rudi nicht so ganz gesund war.', '$type': 'app.bsky.feed.post', 'langs': ['de'], 'reply': {'root': {'cid': 'bafyreifjtjq2nr5xamf7d3rvq5jtf7yt5zly366jio264mephtpdeggizi', 'uri': 'at://did:plc:2sh6zkj6hhrpx5ywfxqw7efx/app.bsky.feed.post/3ksd74mpbkj2b'}, 'parent': {'cid': 'bafyreifgq3mnzqfae4nv6med3y5rphwfrcnhazqrjkagxeiwfvah5agvlu', 'uri': 'at://did:plc:2sh6zkj6hhrpx5ywfxqw7efx/app.bsky.feed.post/3kseyh3qmkr2r'}}, 'createdAt': '2024-05-13T15:34:57.609Z'}\n",
      "{'text': \"This gives it some of it's own novelty...it's not just falling back on typical Slasher tropes...hide-and-seek. It's a CHASE movie (though there is some Slasher stuff).\\n\\nIt also has elements that ended up in HALLOWEEN ENDS, which, such as the vigilante group that accidentally kills an innocent man.\", '$type': 'app.bsky.feed.post', 'langs': ['en'], 'reply': {'root': {'cid': 'bafyreid3ceihm6oqqa5kvkaqi76hv6f6se7n5uyuyorqlyqrswa2gahsve', 'uri': 'at://did:plc:2nd5lcbyeqy4dt2rs4y3kye6/app.bsky.feed.post/3ksey3iioef2r'}, 'parent': {'cid': 'bafyreihqtmhjyxr4wanzpu7z4fkcuab7b6pn4nj5hhdwkh4hffxnwedupy', 'uri': 'at://did:plc:2nd5lcbyeqy4dt2rs4y3kye6/app.bsky.feed.post/3kseyeuhlgt2o'}}, 'createdAt': '2024-05-13T15:27:13.516Z'}\n",
      "{'text': 'I get that from the raw posts', '$type': 'app.bsky.feed.post', 'langs': ['en'], 'reply': {'root': {'cid': 'bafyreiaje66maksmbrnn6m2oax7jbvz6oi6fhqkgm3gjgyroyjl2e26vea', 'uri': 'at://did:plc:xccx7ujmsaolft6ukd2oakkx/app.bsky.feed.post/3ksexob3j422r'}, 'parent': {'cid': 'bafyreiaje66maksmbrnn6m2oax7jbvz6oi6fhqkgm3gjgyroyjl2e26vea', 'uri': 'at://did:plc:xccx7ujmsaolft6ukd2oakkx/app.bsky.feed.post/3ksexob3j422r'}}, 'createdAt': '2024-05-13T15:34:57.756Z'}\n",
      "{'text': 'Rogue is literally amazing, so amazing that not even Texas can, or should, contain her.  Toss her some monies.', '$type': 'app.bsky.feed.post', 'embed': {'$type': 'app.bsky.embed.record', 'record': {'cid': 'bafyreig23ncv7w6sjdzfnaer74oxrhpeqlu5jvo7o37vqyzhsymirhuj34', 'uri': 'at://did:plc:gy73svsws4ii4uabpel7u4jm/app.bsky.feed.post/3ksey7oytcp22'}}, 'langs': ['en'], 'createdAt': '2024-05-13T15:34:57.940Z'}\n",
      "{'text': 'おわた🤗', '$type': 'app.bsky.feed.post', 'langs': ['ja'], 'createdAt': '2024-05-13T15:34:53.838Z'}\n",
      "{'text': 'お金が、友達が、恋人が、自信が、実力が、実績が、欲しい。\\n無い物ねだりの数々は隣の芝生を蛍光の青で塗りつぶす。\\nそんな青色を青空にぶち撒けて、自分のインクが無くなれば幸せなのに。', '$type': 'app.bsky.feed.post', 'langs': ['ja'], 'createdAt': '2024-05-13T15:34:58.299Z'}\n",
      "{'text': 'Does he not?', '$type': 'app.bsky.feed.post', 'langs': ['en'], 'reply': {'root': {'cid': 'bafyreifu2mncgjbwi4fxvxkoqmfezx7cm465jsfqm4v7kz33k4gnzqrljm', 'uri': 'at://did:plc:pgl5fh6p7bhbpewu5qnszi3o/app.bsky.feed.post/3ksdays7des2e'}, 'parent': {'cid': 'bafyreifn2uvne6qnzm5t4lpz2kf7ci5knijfeuczf6fc2556ehkpjo4wna', 'uri': 'at://did:plc:llyvrdjsnfuycjykeaopusbt/app.bsky.feed.post/3kseyioydbm2y'}}, 'createdAt': '2024-05-13T15:34:57.867Z'}\n",
      "{'text': '何もかも終わってたけど、ゴールデン街が最高すぎたのでおれが優勝', '$type': 'app.bsky.feed.post', 'langs': ['ja'], 'createdAt': '2024-05-13T15:34:56.812Z'}\n",
      "{'text': 'Gör ni er måndagsstretch?', '$type': 'app.bsky.feed.post', 'embed': {'$type': 'app.bsky.embed.images', 'images': [{'alt': '', 'image': {'ref': 'bafkreicwtwdryizfutf5czrb4t4lha7sy7igkcni667zafekw3szyyny7i', 'size': 527495, '$type': 'blob', 'mimeType': 'image/jpeg'}, 'aspectRatio': {'width': 1500, 'height': 2000}}]}, 'langs': ['sv'], 'createdAt': '2024-05-13T15:34:55.919Z'}\n"
     ]
    },
    {
     "name": "stderr",
     "output_type": "stream",
     "text": [
      "Traceback (most recent call last):\n",
      "  File \"/home/ep/ws/datastreams/.venv/lib/python3.10/site-packages/atproto_firehose/client.py\", line 141, in _process_message_frame\n",
      "    self._on_message_callback(frame)\n",
      "  File \"/tmp/ipykernel_23314/4106197328.py\", line 7, in on_message_handler\n",
      "    for post in get_posts(commit):\n",
      "  File \"/tmp/ipykernel_23314/2762105270.py\", line 5, in get_posts\n",
      "    if raw[\"$type\"] != 'app.bsky.feed.post':\n",
      "TypeError: 'NoneType' object is not subscriptable\n"
     ]
    },
    {
     "name": "stdout",
     "output_type": "stream",
     "text": [
      "{'text': 'Same to you stud', '$type': 'app.bsky.feed.post', 'langs': ['en'], 'reply': {'root': {'cid': 'bafyreigolp6d5qacbipem7pg4xnu7vpajfkt76bs6e6ddeqjs7hyq2njne', 'uri': 'at://did:plc:qva447p7ro3ehe2gu44cadki/app.bsky.feed.post/3ksercfqew42n'}, 'parent': {'cid': 'bafyreigolp6d5qacbipem7pg4xnu7vpajfkt76bs6e6ddeqjs7hyq2njne', 'uri': 'at://did:plc:qva447p7ro3ehe2gu44cadki/app.bsky.feed.post/3ksercfqew42n'}}, 'createdAt': '2024-05-13T15:34:58.090Z'}\n",
      "{'text': 'そろぼっち、ホットアイマスクとヘッドマッサージで秒で寝る', '$type': 'app.bsky.feed.post', 'langs': ['ja'], 'createdAt': '2024-05-13T15:34:57.710Z'}\n"
     ]
    },
    {
     "name": "stderr",
     "output_type": "stream",
     "text": [
      "Traceback (most recent call last):\n",
      "  File \"/home/ep/ws/datastreams/.venv/lib/python3.10/site-packages/atproto_firehose/client.py\", line 141, in _process_message_frame\n",
      "    self._on_message_callback(frame)\n",
      "  File \"/tmp/ipykernel_23314/4106197328.py\", line 7, in on_message_handler\n",
      "    for post in get_posts(commit):\n",
      "  File \"/tmp/ipykernel_23314/2762105270.py\", line 5, in get_posts\n",
      "    if raw[\"$type\"] != 'app.bsky.feed.post':\n",
      "TypeError: 'NoneType' object is not subscriptable\n"
     ]
    },
    {
     "name": "stdout",
     "output_type": "stream",
     "text": [
      "{'text': \"\\u202a2/\\u202c\\n\\n\\u202aAttendance disappointing: noon start on a Monday probably doesn't suit some but there was a weekend afternoon talk in Galway on Saturday which could have been in the range of some people in the midwest.\\u202c\\n\\n\\u202a#MEcfs #CFS #PwME \\u202c\", '$type': 'app.bsky.feed.post', 'langs': ['en'], 'reply': {'root': {'cid': 'bafyreiedqt7qbwz6lsy3htj55voqwwb3w2snebjcv6llztgekfhwk5euuy', 'uri': 'at://did:plc:23qykgkyz2ynqcw56hgl3fdr/app.bsky.feed.post/3kseygcmrw727'}, 'parent': {'cid': 'bafyreiedqt7qbwz6lsy3htj55voqwwb3w2snebjcv6llztgekfhwk5euuy', 'uri': 'at://did:plc:23qykgkyz2ynqcw56hgl3fdr/app.bsky.feed.post/3kseygcmrw727'}}, 'facets': [{'index': {'byteEnd': 234, 'byteStart': 230}, 'features': [{'tag': 'CFS', '$type': 'app.bsky.richtext.facet#tag'}]}, {'index': {'byteEnd': 240, 'byteStart': 235}, 'features': [{'tag': 'PwME', '$type': 'app.bsky.richtext.facet#tag'}]}], 'createdAt': '2024-05-13T15:34:58.273Z'}\n",
      "{'text': 'Le Quartier de Trastevere à Rome...❤️🇮🇹🤩🎉 #Roma #Rome #Italie #Italia #Italy', '$type': 'app.bsky.feed.post', 'embed': {'$type': 'app.bsky.embed.images', 'images': [{'alt': '', 'image': {'ref': 'bafkreiblzsidy7rherlg5funsd7kicprpmnyfthggzoptcccjyxljpi42u', 'size': 452960, '$type': 'blob', 'mimeType': 'image/jpeg'}, 'aspectRatio': {'width': 1080, 'height': 1350}}, {'alt': '', 'image': {'ref': 'bafkreifzirn6xuf65xzjcicwn7wzsmhxqmqpfhl4qonpxufzuuwmrje3cu', 'size': 668664, '$type': 'blob', 'mimeType': 'image/jpeg'}, 'aspectRatio': {'width': 1080, 'height': 1350}}, {'alt': '', 'image': {'ref': 'bafkreigdjvquzfyhhtol3o3cp6gmpv7nmgzxnqgtgzzr5x3lmo3s3fj2g4', 'size': 688874, '$type': 'blob', 'mimeType': 'image/jpeg'}, 'aspectRatio': {'width': 1080, 'height': 1350}}, {'alt': '', 'image': {'ref': 'bafkreif7qtzewej3smxxw5gtup2e4kksxrxd7hr4iudruwy5vannirtjza', 'size': 592916, '$type': 'blob', 'mimeType': 'image/jpeg'}, 'aspectRatio': {'width': 1080, 'height': 1350}}]}, 'langs': ['fr'], 'facets': [{'index': {'byteEnd': 64, 'byteStart': 59}, 'features': [{'tag': 'Roma', '$type': 'app.bsky.richtext.facet#tag'}]}, {'index': {'byteEnd': 70, 'byteStart': 65}, 'features': [{'tag': 'Rome', '$type': 'app.bsky.richtext.facet#tag'}]}, {'index': {'byteEnd': 78, 'byteStart': 71}, 'features': [{'tag': 'Italie', '$type': 'app.bsky.richtext.facet#tag'}]}, {'index': {'byteEnd': 86, 'byteStart': 79}, 'features': [{'tag': 'Italia', '$type': 'app.bsky.richtext.facet#tag'}]}, {'index': {'byteEnd': 93, 'byteStart': 87}, 'features': [{'tag': 'Italy', '$type': 'app.bsky.richtext.facet#tag'}]}], 'createdAt': '2024-05-13T15:34:55.951Z'}\n",
      "{'text': 'Ja, ich hatte letztens die Auskunft erhalten, wir beantworten keine e Mails aus Datenschutzgründen 🙄', '$type': 'app.bsky.feed.post', 'langs': ['de'], 'reply': {'root': {'cid': 'bafyreibrf3obndsiuh2v7mc52d2hvnitm7mi5ohmdy5eis77zxbnsz3z5m', 'uri': 'at://did:plc:psmwyiadfrignhma7mg6fvcx/app.bsky.feed.post/3kse4f4s4qs2j'}, 'parent': {'cid': 'bafyreiaglrrxq5evofvw7kvmrdzfrdsuip34o3y53hsdnsl252xxevcc3a', 'uri': 'at://did:plc:uo5va2dt2nofbkc3uptjfauv/app.bsky.feed.post/3ksebevm6at2m'}}, 'createdAt': '2024-05-13T15:34:57.724Z'}\n",
      "{'text': '高専で恋愛って出来ないのか', '$type': 'app.bsky.feed.post', 'langs': ['ja'], 'createdAt': '2024-05-13T15:35:00.066Z'}\n"
     ]
    },
    {
     "ename": "KeyboardInterrupt",
     "evalue": "",
     "output_type": "error",
     "traceback": [
      "\u001b[0;31m---------------------------------------------------------------------------\u001b[0m",
      "\u001b[0;31mKeyboardInterrupt\u001b[0m                         Traceback (most recent call last)",
      "Cell \u001b[0;32mIn[16], line 1\u001b[0m\n\u001b[0;32m----> 1\u001b[0m \u001b[43mclient\u001b[49m\u001b[38;5;241;43m.\u001b[39;49m\u001b[43mstart\u001b[49m\u001b[43m(\u001b[49m\u001b[43mon_message_handler\u001b[49m\u001b[43m)\u001b[49m\n",
      "File \u001b[0;32m~/ws/datastreams/.venv/lib/python3.10/site-packages/atproto_firehose/client.py:177\u001b[0m, in \u001b[0;36m_WebsocketClient.start\u001b[0;34m(self, on_message_callback, on_callback_error_callback)\u001b[0m\n\u001b[1;32m    174\u001b[0m \u001b[38;5;28mself\u001b[39m\u001b[38;5;241m.\u001b[39m_reconnect_no \u001b[38;5;241m=\u001b[39m \u001b[38;5;241m0\u001b[39m\n\u001b[1;32m    176\u001b[0m \u001b[38;5;28;01mwhile\u001b[39;00m \u001b[38;5;129;01mnot\u001b[39;00m \u001b[38;5;28mself\u001b[39m\u001b[38;5;241m.\u001b[39m_stop_lock\u001b[38;5;241m.\u001b[39mlocked():\n\u001b[0;32m--> 177\u001b[0m     raw_frame \u001b[38;5;241m=\u001b[39m \u001b[43mclient\u001b[49m\u001b[38;5;241;43m.\u001b[39;49m\u001b[43mrecv\u001b[49m\u001b[43m(\u001b[49m\u001b[43m)\u001b[49m\n\u001b[1;32m    178\u001b[0m     \u001b[38;5;28;01mif\u001b[39;00m \u001b[38;5;28misinstance\u001b[39m(raw_frame, \u001b[38;5;28mstr\u001b[39m):\n\u001b[1;32m    179\u001b[0m         \u001b[38;5;66;03m# skip text frames (should not be occurred)\u001b[39;00m\n\u001b[1;32m    180\u001b[0m         \u001b[38;5;28;01mcontinue\u001b[39;00m\n",
      "File \u001b[0;32m~/ws/datastreams/.venv/lib/python3.10/site-packages/websockets/sync/connection.py:199\u001b[0m, in \u001b[0;36mConnection.recv\u001b[0;34m(self, timeout)\u001b[0m\n\u001b[1;32m    167\u001b[0m \u001b[38;5;250m\u001b[39m\u001b[38;5;124;03m\"\"\"\u001b[39;00m\n\u001b[1;32m    168\u001b[0m \u001b[38;5;124;03mReceive the next message.\u001b[39;00m\n\u001b[1;32m    169\u001b[0m \n\u001b[0;32m   (...)\u001b[0m\n\u001b[1;32m    196\u001b[0m \n\u001b[1;32m    197\u001b[0m \u001b[38;5;124;03m\"\"\"\u001b[39;00m\n\u001b[1;32m    198\u001b[0m \u001b[38;5;28;01mtry\u001b[39;00m:\n\u001b[0;32m--> 199\u001b[0m     \u001b[38;5;28;01mreturn\u001b[39;00m \u001b[38;5;28;43mself\u001b[39;49m\u001b[38;5;241;43m.\u001b[39;49m\u001b[43mrecv_messages\u001b[49m\u001b[38;5;241;43m.\u001b[39;49m\u001b[43mget\u001b[49m\u001b[43m(\u001b[49m\u001b[43mtimeout\u001b[49m\u001b[43m)\u001b[49m\n\u001b[1;32m    200\u001b[0m \u001b[38;5;28;01mexcept\u001b[39;00m \u001b[38;5;167;01mEOFError\u001b[39;00m:\n\u001b[1;32m    201\u001b[0m     \u001b[38;5;28;01mraise\u001b[39;00m \u001b[38;5;28mself\u001b[39m\u001b[38;5;241m.\u001b[39mprotocol\u001b[38;5;241m.\u001b[39mclose_exc \u001b[38;5;28;01mfrom\u001b[39;00m \u001b[38;5;21;01mself\u001b[39;00m\u001b[38;5;21;01m.\u001b[39;00m\u001b[38;5;21;01mrecv_events_exc\u001b[39;00m\n",
      "File \u001b[0;32m~/ws/datastreams/.venv/lib/python3.10/site-packages/websockets/sync/messages.py:91\u001b[0m, in \u001b[0;36mAssembler.get\u001b[0;34m(self, timeout)\u001b[0m\n\u001b[1;32m     86\u001b[0m     \u001b[38;5;28mself\u001b[39m\u001b[38;5;241m.\u001b[39mget_in_progress \u001b[38;5;241m=\u001b[39m \u001b[38;5;28;01mTrue\u001b[39;00m\n\u001b[1;32m     88\u001b[0m \u001b[38;5;66;03m# If the message_complete event isn't set yet, release the lock to\u001b[39;00m\n\u001b[1;32m     89\u001b[0m \u001b[38;5;66;03m# allow put() to run and eventually set it.\u001b[39;00m\n\u001b[1;32m     90\u001b[0m \u001b[38;5;66;03m# Locking with get_in_progress ensures only one thread can get here.\u001b[39;00m\n\u001b[0;32m---> 91\u001b[0m completed \u001b[38;5;241m=\u001b[39m \u001b[38;5;28;43mself\u001b[39;49m\u001b[38;5;241;43m.\u001b[39;49m\u001b[43mmessage_complete\u001b[49m\u001b[38;5;241;43m.\u001b[39;49m\u001b[43mwait\u001b[49m\u001b[43m(\u001b[49m\u001b[43mtimeout\u001b[49m\u001b[43m)\u001b[49m\n\u001b[1;32m     93\u001b[0m \u001b[38;5;28;01mwith\u001b[39;00m \u001b[38;5;28mself\u001b[39m\u001b[38;5;241m.\u001b[39mmutex:\n\u001b[1;32m     94\u001b[0m     \u001b[38;5;28mself\u001b[39m\u001b[38;5;241m.\u001b[39mget_in_progress \u001b[38;5;241m=\u001b[39m \u001b[38;5;28;01mFalse\u001b[39;00m\n",
      "File \u001b[0;32m/usr/lib/python3.10/threading.py:607\u001b[0m, in \u001b[0;36mEvent.wait\u001b[0;34m(self, timeout)\u001b[0m\n\u001b[1;32m    605\u001b[0m signaled \u001b[38;5;241m=\u001b[39m \u001b[38;5;28mself\u001b[39m\u001b[38;5;241m.\u001b[39m_flag\n\u001b[1;32m    606\u001b[0m \u001b[38;5;28;01mif\u001b[39;00m \u001b[38;5;129;01mnot\u001b[39;00m signaled:\n\u001b[0;32m--> 607\u001b[0m     signaled \u001b[38;5;241m=\u001b[39m \u001b[38;5;28;43mself\u001b[39;49m\u001b[38;5;241;43m.\u001b[39;49m\u001b[43m_cond\u001b[49m\u001b[38;5;241;43m.\u001b[39;49m\u001b[43mwait\u001b[49m\u001b[43m(\u001b[49m\u001b[43mtimeout\u001b[49m\u001b[43m)\u001b[49m\n\u001b[1;32m    608\u001b[0m \u001b[38;5;28;01mreturn\u001b[39;00m signaled\n",
      "File \u001b[0;32m/usr/lib/python3.10/threading.py:320\u001b[0m, in \u001b[0;36mCondition.wait\u001b[0;34m(self, timeout)\u001b[0m\n\u001b[1;32m    318\u001b[0m \u001b[38;5;28;01mtry\u001b[39;00m:    \u001b[38;5;66;03m# restore state no matter what (e.g., KeyboardInterrupt)\u001b[39;00m\n\u001b[1;32m    319\u001b[0m     \u001b[38;5;28;01mif\u001b[39;00m timeout \u001b[38;5;129;01mis\u001b[39;00m \u001b[38;5;28;01mNone\u001b[39;00m:\n\u001b[0;32m--> 320\u001b[0m         \u001b[43mwaiter\u001b[49m\u001b[38;5;241;43m.\u001b[39;49m\u001b[43macquire\u001b[49m\u001b[43m(\u001b[49m\u001b[43m)\u001b[49m\n\u001b[1;32m    321\u001b[0m         gotit \u001b[38;5;241m=\u001b[39m \u001b[38;5;28;01mTrue\u001b[39;00m\n\u001b[1;32m    322\u001b[0m     \u001b[38;5;28;01melse\u001b[39;00m:\n",
      "\u001b[0;31mKeyboardInterrupt\u001b[0m: "
     ]
    }
   ],
   "source": [
    "client.start(on_message_handler)"
   ]
  },
  {
   "cell_type": "code",
   "execution_count": null,
   "id": "d734b221-b45b-4614-8229-15adb3778c12",
   "metadata": {},
   "outputs": [],
   "source": []
  },
  {
   "cell_type": "code",
   "execution_count": null,
   "id": "eb2dc14e-228a-482b-96b9-6c91a2ae3b5a",
   "metadata": {},
   "outputs": [],
   "source": []
  }
 ],
 "metadata": {
  "kernelspec": {
   "display_name": "Python 3 (ipykernel)",
   "language": "python",
   "name": "python3"
  },
  "language_info": {
   "codemirror_mode": {
    "name": "ipython",
    "version": 3
   },
   "file_extension": ".py",
   "mimetype": "text/x-python",
   "name": "python",
   "nbconvert_exporter": "python",
   "pygments_lexer": "ipython3",
   "version": "3.10.12"
  }
 },
 "nbformat": 4,
 "nbformat_minor": 5
}
